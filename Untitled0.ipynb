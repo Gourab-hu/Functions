{
  "nbformat": 4,
  "nbformat_minor": 0,
  "metadata": {
    "colab": {
      "provenance": []
    },
    "kernelspec": {
      "name": "python3",
      "display_name": "Python 3"
    },
    "language_info": {
      "name": "python"
    }
  },
  "cells": [
    {
      "cell_type": "markdown",
      "source": [
        "# FUNCTIONS\n",
        "\n",
        "1. what are functions?\n",
        "-  Functions are basic materials which use to define human nature.\n"
      ],
      "metadata": {
        "id": "3CgU-HngcI5r"
      }
    },
    {
      "cell_type": "code",
      "execution_count": null,
      "metadata": {
        "id": "qlgfERyRcAt9"
      },
      "outputs": [],
      "source": []
    },
    {
      "cell_type": "markdown",
      "source": [],
      "metadata": {
        "id": "3LhdLeF7cGwH"
      }
    }
  ]
}